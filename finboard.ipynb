{
 "cells": [
  {
   "cell_type": "markdown",
   "metadata": {},
   "source": [
    "## MARKETSTACK"
   ]
  },
  {
   "cell_type": "code",
   "execution_count": 23,
   "metadata": {},
   "outputs": [
    {
     "name": "stdout",
     "output_type": "stream",
     "text": [
      "{'pagination': {'limit': 100, 'offset': 0, 'count': 6, 'total': 6}, 'data': [{'open': 245.95, 'high': 248.69, 'low': 245.22, 'close': 245.55, 'volume': 53119400.0, 'adj_high': 248.69, 'adj_low': 245.22, 'adj_close': 245.55, 'adj_open': 245.95, 'adj_volume': 53197431.0, 'split_factor': 1.0, 'dividend': 0.0, 'name': 'Apple Inc', 'exchange_code': 'NASDAQ', 'asset_type': 'Stock', 'price_currency': 'usd', 'symbol': 'AAPL', 'exchange': 'XNAS', 'date': '2025-02-21T00:00:00+0000'}, {'open': 244.97, 'high': 246.78, 'low': 244.29, 'close': 245.83, 'volume': 31125149.0, 'adj_high': 246.78, 'adj_low': 244.29, 'adj_close': 245.83, 'adj_open': 244.94, 'adj_volume': 32316907.0, 'split_factor': 1.0, 'dividend': 0.0, 'name': 'Apple Inc', 'exchange_code': 'NASDAQ', 'asset_type': 'Stock', 'price_currency': 'usd', 'symbol': 'AAPL', 'exchange': 'XNAS', 'date': '2025-02-20T00:00:00+0000'}, {'open': 244.66, 'high': 246.01, 'low': 243.16, 'close': 244.87, 'volume': 32184200.0, 'adj_high': 246.01, 'adj_low': 243.1604, 'adj_close': 244.87, 'adj_open': 244.66, 'adj_volume': 32204215.0, 'split_factor': 1.0, 'dividend': 0.0, 'name': 'Apple Inc', 'exchange_code': 'NASDAQ', 'asset_type': 'Stock', 'price_currency': 'usd', 'symbol': 'AAPL', 'exchange': 'XNAS', 'date': '2025-02-19T00:00:00+0000'}, {'open': 243.91, 'high': 245.18, 'low': 241.84, 'close': 244.47, 'volume': 48158313.0, 'adj_high': 245.18, 'adj_low': 241.84, 'adj_close': 244.47, 'adj_open': 244.15, 'adj_volume': 48822491.0, 'split_factor': 1.0, 'dividend': 0.0, 'name': 'Apple Inc', 'exchange_code': 'NASDAQ', 'asset_type': 'Stock', 'price_currency': 'usd', 'symbol': 'AAPL', 'exchange': 'XNAS', 'date': '2025-02-18T00:00:00+0000'}, {'open': 241.25, 'high': 245.55, 'low': 240.99, 'close': 244.6, 'volume': 40896227.0, 'adj_high': 245.55, 'adj_low': 240.99, 'adj_close': 244.6, 'adj_open': 241.25, 'adj_volume': 40896227.0, 'split_factor': 1.0, 'dividend': 0.0, 'name': 'Apple Inc', 'exchange_code': 'NASDAQ', 'asset_type': 'Stock', 'price_currency': 'usd', 'symbol': 'AAPL', 'exchange': 'XNAS', 'date': '2025-02-14T00:00:00+0000'}, {'open': 236.91, 'high': 242.34, 'low': 235.57, 'close': 241.53, 'volume': 53543300.0, 'adj_high': 242.3399, 'adj_low': 235.57, 'adj_close': 241.53, 'adj_open': 236.91, 'adj_volume': 53614054.0, 'split_factor': 1.0, 'dividend': 0.0, 'name': 'Apple Inc', 'exchange_code': 'NASDAQ', 'asset_type': 'Stock', 'price_currency': 'usd', 'symbol': 'AAPL', 'exchange': 'XNAS', 'date': '2025-02-13T00:00:00+0000'}]}\n"
     ]
    }
   ],
   "source": [
    "import requests\n",
    "\n",
    "# API endpoint\n",
    "base_url = 'http://api.marketstack.com/v2/eod'\n",
    "\n",
    "# Parameters for the request\n",
    "params = {\n",
    "    'access_key': API_KEY,\n",
    "    'symbols': 'AAPL',\n",
    "    'date_from': '2025-02-13',\n",
    "    'date_to': '2025-02-23'\n",
    "}\n",
    "\n",
    "# Make the request\n",
    "response = requests.get(base_url, params=params)\n",
    "\n",
    "# Get the JSON data\n",
    "if response.status_code == 200:\n",
    "    data = response.json()\n",
    "    print(data)\n",
    "else:\n",
    "    print(f\"Error: {response.status_code}\")"
   ]
  },
  {
   "cell_type": "code",
   "execution_count": 24,
   "metadata": {},
   "outputs": [
    {
     "name": "stdout",
     "output_type": "stream",
     "text": [
      "{'data': {'name': 'Tesla, Inc.', 'ticker': 'TSLA', 'item_type': 'equity', 'sector': 'Consumer Cyclical', 'industry': 'Auto Manufacturers', 'exchange_code': 'NMS', 'full_time_employees': '127855', 'ipo_date': None, 'date_founded': None, 'key_executives': [{'name': 'Mr. Rodney D. Westmoreland Jr.', 'salary': '', 'function': 'Director of Construction Management', 'exercised': '', 'birth_year': ''}, {'name': 'Mr. Turner  Caldwell', 'salary': '', 'function': 'Engineering Manager', 'exercised': '', 'birth_year': ''}, {'name': 'Travis  Axelrod', 'salary': '', 'function': 'Head of Investor Relations', 'exercised': '', 'birth_year': ''}, {'name': 'Mr. Xiaotong  Zhu', 'salary': '926.88k', 'function': 'Senior Vice President of Automotive', 'exercised': '', 'birth_year': '1980'}, {'name': 'Mr. Vaibhav  Taneja', 'salary': '278k', 'function': 'Chief Financial Officer', 'exercised': '', 'birth_year': '1978'}, {'name': 'Mr. Elon R. Musk', 'salary': '', 'function': 'Co-Founder, Technoking of Tesla, CEO & Director', 'exercised': '', 'birth_year': '1972'}, {'name': 'Mr. Peter  Bannon', 'salary': '', 'function': 'Chip Architect', 'exercised': '', 'birth_year': ''}, {'name': 'Mr. John  Walker', 'salary': '121.55k', 'function': 'Vice President of Sales - North America', 'exercised': '', 'birth_year': '1963'}, {'name': 'Mr. Xiaotong  Zhu', 'salary': '', 'function': 'Senior Vice President of Automotive', 'exercised': '', 'birth_year': '1980'}, {'name': 'Mr. Jeffrey Brian Straubel', 'salary': '250.56k', 'function': 'Independent Director', 'exercised': '', 'birth_year': '1976'}, {'name': 'Brian  Scelfo', 'salary': '', 'function': 'Senior Director of Corporate Development', 'exercised': '', 'birth_year': ''}, {'name': 'Mr. Dave  Arnold', 'salary': '', 'function': 'Senior Director of Global Communications', 'exercised': '', 'birth_year': ''}, {'name': 'Mr. Alan  Prescott', 'salary': '', 'function': 'Vice President of Legal', 'exercised': '', 'birth_year': '1979'}, {'name': 'Mr. Martin  Viecha', 'salary': '', 'function': 'Senior Director for Investor Relations', 'exercised': '', 'birth_year': ''}, {'name': 'Mr. Vaibhav  Taneja', 'salary': '', 'function': 'CFO, Corporate Controller & Chief Accounting Officer', 'exercised': '', 'birth_year': '1978'}, {'name': 'Mr. Andrew D. Baglino', 'salary': '303k', 'function': 'Senior Vice President of Powertrain & Energy Engineering', 'exercised': '', 'birth_year': '1981'}, {'name': 'Mr. Elon R. Musk', 'salary': '', 'function': 'Technoking of Tesla, CEO & Director', 'exercised': '', 'birth_year': '1972'}, {'name': 'Mr. Xiaotong  Zhu', 'salary': '', 'function': 'Sr. VP of Automotive', 'exercised': '', 'birth_year': '1980'}, {'name': 'Mr. Jeffrey Brian Straubel', 'salary': '', 'function': 'Independent Director', 'exercised': '', 'birth_year': '1976'}, {'name': 'Ms. Sarah  Maryssael', 'salary': '', 'function': 'Group Mang. of Battery Metals', 'exercised': '', 'birth_year': ''}, {'name': 'Mr. Vaibhav  Taneja', 'salary': '', 'function': 'CFO, Corp. Controller & Chief Accounting Officer', 'exercised': '', 'birth_year': '1978'}, {'name': 'Mr. Jeffrey B. Straubel', 'salary': '', 'function': 'Independent Director', 'exercised': '', 'birth_year': '1976'}, {'name': 'Mr. Andrew D. Baglino', 'salary': '303k', 'function': 'Sr. VP of Powertrain & Energy Engineering', 'exercised': '', 'birth_year': '1981'}, {'name': 'Mr. Zachary John Planell Kirkhorn', 'salary': '303k', 'function': 'Master of Coin & CFO', 'exercised': '', 'birth_year': '1986'}, {'name': 'Mr. Franz  von Holzhausen', 'salary': '', 'function': 'Chief Designer', 'exercised': '', 'birth_year': ''}, {'name': 'Mr. Jeffrey B. Straubel', 'salary': '', 'function': 'Sr. Advisor', 'exercised': '', 'birth_year': '1976'}, {'name': 'Brian  Scelfo', 'salary': '', 'function': 'Sr. Director of Corp. Devel.', 'exercised': '', 'birth_year': ''}, {'name': 'Mr. Dave  Arnold', 'salary': '', 'function': 'Sr. Director of Global Communications', 'exercised': '', 'birth_year': ''}, {'name': 'Mr. Alan  Prescott', 'salary': '', 'function': 'VP of Legal', 'exercised': '', 'birth_year': '1979'}, {'name': 'Mr. Martin  Viecha', 'salary': '', 'function': 'Sr. Director for Investor Relations', 'exercised': '', 'birth_year': ''}, {'name': 'Mr. Vaibhav  Taneja', 'salary': '', 'function': 'Corp. Controller & Chief Accounting Officer', 'exercised': '', 'birth_year': '1978'}, {'name': 'Mr. Andrew D. Baglino', 'salary': '301.15k', 'function': 'Sr. VP of Powertrain & Energy Engineering', 'exercised': '', 'birth_year': '1981'}, {'name': 'Mr. Zachary John Planell Kirkhorn', 'salary': '301.15k', 'function': 'Master of Coin & CFO', 'exercised': '', 'birth_year': '1985'}, {'name': 'Mr. Elon R. Musk', 'salary': '', 'function': 'Technoking of Tesla, CEO & Director', 'exercised': '', 'birth_year': '1972'}], 'incorporation': 'DE', 'incorporation_description': 'DE', 'start_fiscal': None, 'end_fiscal': '1231', 'reporting_currency': None, 'address': {'city': 'PALO ALTO', 'street1': '3500 DEER CREEK RD', 'street2': '', 'postal_code': '94304', 'stateOrCountry': 'CA', 'state_or_country_description': 'CA'}, 'post_address': {'city': 'PALO ALTO', 'street1': '3500 DEER CREEK RD', 'street2': '', 'postal_code': '94304', 'stateOrCountry': 'CA', 'state_or_country_description': 'CA'}, 'phone': '650-681-5000', 'website': 'https://www.tesla.com', 'previous_names': [{'from': '2005-02-17', 'name': 'TESLA MOTORS INC'}], 'about': 'Tesla, Inc. designs, develops, manufactures, leases, and sells electric vehicles, and energy generation and storage systems in the United States, China, and internationally. It operates in two segments, Automotive, and Energy Generation and Storage. The Automotive segment offers electric vehicles, as well as sells automotive regulatory credits; and non-warranty after-sales vehicle, used vehicles, retail merchandise, and vehicle insurance services. This segment also provides sedans and sport utility vehicles through direct and used vehicle sales, a network of Tesla Superchargers, and in-app upgrades; purchase financing and leasing services; services for electric vehicles through its company-owned service locations and Tesla mobile service technicians; and vehicle limited warranties and extended service plans. The Energy Generation and Storage segment engages in the design, manufacture, installation, sale, and leasing of solar energy generation and energy storage products, and related services to residential, commercial, and industrial customers and utilities through its website, stores, and galleries, as well as through a network of channel partners; and provision of service and repairs to its energy product customers, including under warranty, as well as various financing options to its solar customers. The company was formerly known as Tesla Motors, Inc. and changed its name to Tesla, Inc. in February 2017. Tesla, Inc. was incorporated in 2003 and is headquartered in Austin, Texas.', 'mission': None, 'vision': None, 'stock_exchanges': [{'city': 'New York', 'country': 'USA', 'website': 'www.iextrading.com', 'acronym1': 'IEX', 'alpha2_code': 'US', 'exchange_mic': 'IEXG', 'exchange_name': 'Investors Exchange'}, {'city': 'NEW YORK', 'country': '', 'website': 'www.nasdaq.com', 'acronym1': 'NASDAQ', 'alpha2_code': 'US', 'exchange_mic': 'XNAS', 'exchange_name': 'NASDAQ - ALL MARKETS'}, {'city': 'New York', 'country': 'USA', 'website': 'www.nasdaq.com', 'acronym1': 'NASDAQ', 'alpha2_code': 'US', 'exchange_mic': 'XNAS', 'exchange_name': 'NASDAQ Stock Exchange'}]}}\n"
     ]
    }
   ],
   "source": [
    "# API endpoint\n",
    "base_url = 'http://api.marketstack.com/v2/tickerinfo'\n",
    "\n",
    "# Parameters for the request\n",
    "params = {\n",
    "    'access_key': API_KEY,\n",
    "    'ticker': 'TSLA'\n",
    "}\n",
    "\n",
    "# Make the request\n",
    "response = requests.get(base_url, params=params)\n",
    "\n",
    "# Get the JSON data\n",
    "if response.status_code == 200:\n",
    "    data = response.json()\n",
    "    print(data)\n",
    "else:\n",
    "    print(f\"Error: {response.status_code}\")"
   ]
  },
  {
   "cell_type": "code",
   "execution_count": null,
   "metadata": {},
   "outputs": [],
   "source": [
    "# Get first 10 tickers from the DataFrame\n",
    "first_10_tickers = df['Ticker'].head(10).tolist()\n",
    "\n",
    "# Create an empty list to store results\n",
    "api_results = []\n",
    "\n",
    "for ticker in first_10_tickers:\n",
    "    # Parameters for the request\n",
    "    params = {\n",
    "        'access_key': API_KEY,\n",
    "        'symbols': ticker\n",
    "    }\n",
    "    \n",
    "    # Make the request\n",
    "    response = requests.get('http://api.marketstack.com/v2/tickerslist', params=params)\n",
    "    \n",
    "    if response.status_code == 200:\n",
    "        api_results.append(response.json())\n",
    "    else:\n",
    "        print(f\"Error for {ticker}: {response.status_code}\")\n",
    "\n",
    "# Print results\n",
    "for result in api_results:\n",
    "    print(result)"
   ]
  },
  {
   "cell_type": "markdown",
   "metadata": {},
   "source": [
    "## FINNHUB"
   ]
  },
  {
   "cell_type": "code",
   "execution_count": 29,
   "metadata": {},
   "outputs": [
    {
     "name": "stdout",
     "output_type": "stream",
     "text": [
      "Requirement already satisfied: finnhub-python in /home/souiki.yacine/.pyenv/versions/3.10.12/envs/Artefact/lib/python3.10/site-packages (2.4.22)\n",
      "Requirement already satisfied: requests>=2.22.0 in /home/souiki.yacine/.pyenv/versions/3.10.12/envs/Artefact/lib/python3.10/site-packages (from finnhub-python) (2.32.3)\n",
      "Requirement already satisfied: charset-normalizer<4,>=2 in /home/souiki.yacine/.pyenv/versions/3.10.12/envs/Artefact/lib/python3.10/site-packages (from requests>=2.22.0->finnhub-python) (3.4.1)\n",
      "Requirement already satisfied: idna<4,>=2.5 in /home/souiki.yacine/.pyenv/versions/3.10.12/envs/Artefact/lib/python3.10/site-packages (from requests>=2.22.0->finnhub-python) (3.10)\n",
      "Requirement already satisfied: urllib3<3,>=1.21.1 in /home/souiki.yacine/.pyenv/versions/3.10.12/envs/Artefact/lib/python3.10/site-packages (from requests>=2.22.0->finnhub-python) (2.3.0)\n",
      "Requirement already satisfied: certifi>=2017.4.17 in /home/souiki.yacine/.pyenv/versions/3.10.12/envs/Artefact/lib/python3.10/site-packages (from requests>=2.22.0->finnhub-python) (2025.1.31)\n",
      "\n",
      "\u001b[1m[\u001b[0m\u001b[34;49mnotice\u001b[0m\u001b[1;39;49m]\u001b[0m\u001b[39;49m A new release of pip is available: \u001b[0m\u001b[31;49m25.0\u001b[0m\u001b[39;49m -> \u001b[0m\u001b[32;49m25.0.1\u001b[0m\n",
      "\u001b[1m[\u001b[0m\u001b[34;49mnotice\u001b[0m\u001b[1;39;49m]\u001b[0m\u001b[39;49m To update, run: \u001b[0m\u001b[32;49mpip install --upgrade pip\u001b[0m\n"
     ]
    }
   ],
   "source": [
    "!pip install finnhub-python\n",
    "import finnhub"
   ]
  },
  {
   "cell_type": "code",
   "execution_count": null,
   "metadata": {},
   "outputs": [
    {
     "name": "stdout",
     "output_type": "stream",
     "text": [
      "{'c': 337.8, 'd': -16.6, 'dp': -4.684, 'h': 354.98, 'l': 334.42, 'o': 353.44, 'pc': 354.4, 't': 1740258000}\n"
     ]
    }
   ],
   "source": [
    "finnhub_client = finnhub.Client(api_key=\"\")\n",
    "\n",
    "print(finnhub_client.quote('TSLA'))\n"
   ]
  },
  {
   "cell_type": "markdown",
   "metadata": {},
   "source": [
    "- c: 337.8: Current price ($337.80).\n",
    "- d: -16.6: Dollar change from previous close (-$16.60).\n",
    "- dp: -4.684: Percentage change from previous close (-4.684%).\n",
    "- h: 354.98: Day’s high price ($354.98).\n",
    "- l: 334.42: Day’s low price ($334.42).\n",
    "- o: 353.44: Opening price ($353.44).\n",
    "- pc: 354.4: Previous close price ($354.40).\n",
    "- t: 1740258000: Timestamp (October 23, 2024, 17:00 UTC).\n",
    "\n",
    "Change the display on streamlit to make it more readable"
   ]
  },
  {
   "cell_type": "markdown",
   "metadata": {},
   "source": [
    "## ALPHAVANTAGE"
   ]
  },
  {
   "cell_type": "code",
   "execution_count": 2,
   "metadata": {},
   "outputs": [
    {
     "name": "stdout",
     "output_type": "stream",
     "text": [
      "{'Global Quote': {'01. symbol': 'TSLA', '02. open': '353.4400', '03. high': '354.9800', '04. low': '334.4200', '05. price': '337.8000', '06. volume': '74058648', '07. latest trading day': '2025-02-21', '08. previous close': '354.4000', '09. change': '-16.6000', '10. change percent': '-4.6840%'}}\n"
     ]
    }
   ],
   "source": [
    "import requests\n",
    "\n",
    "# replace the \"demo\" apikey below with your own key from https://www.alphavantage.co/support/#api-key\n",
    "url = 'https://www.alphavantage.co/query?function=GLOBAL_QUOTE&symbol=TSLA&apikey=api_key'\n",
    "r = requests.get(url)\n",
    "data = r.json()\n",
    "\n",
    "print(data)"
   ]
  },
  {
   "cell_type": "markdown",
   "metadata": {},
   "source": [
    "## COINCAP"
   ]
  },
  {
   "cell_type": "code",
   "execution_count": 8,
   "metadata": {},
   "outputs": [
    {
     "name": "stdout",
     "output_type": "stream",
     "text": [
      "{\"data\":{\"id\":\"bitcoin\",\"rank\":\"1\",\"symbol\":\"BTC\",\"name\":\"Bitcoin\",\"supply\":\"19828478.0000000000000000\",\"maxSupply\":\"21000000.0000000000000000\",\"marketCapUsd\":\"1877509486064.5287860103889952\",\"volumeUsd24Hr\":\"7772814984.1104750523238259\",\"priceUsd\":\"94687.5239776108275184\",\"changePercent24Hr\":\"-0.8566179739135940\",\"vwap24Hr\":\"95425.1496016107966084\",\"explorer\":\"https://blockchain.info/\"},\"timestamp\":1740415168140}\n"
     ]
    }
   ],
   "source": [
    "import requests\n",
    "\n",
    "url = \"https://api.coincap.io/v2/assets/bitcoin\"\n",
    "\n",
    "payload={}\n",
    "headers = {}\n",
    "\n",
    "response = requests.request(\"GET\", url, headers=headers, data=payload)\n",
    "\n",
    "print(response.text)\n"
   ]
  },
  {
   "cell_type": "markdown",
   "metadata": {},
   "source": [
    "## COINPAPRIKA"
   ]
  },
  {
   "cell_type": "code",
   "execution_count": 6,
   "metadata": {},
   "outputs": [
    {
     "name": "stdout",
     "output_type": "stream",
     "text": [
      "Collecting coinpaprika-sdk\n",
      "  Downloading coinpaprika_sdk-1.0.0-py3-none-any.whl.metadata (2.0 kB)\n",
      "Requirement already satisfied: requests in /home/souiki.yacine/.pyenv/versions/3.10.12/envs/Artefact/lib/python3.10/site-packages (from coinpaprika-sdk) (2.32.3)\n",
      "Requirement already satisfied: charset-normalizer<4,>=2 in /home/souiki.yacine/.pyenv/versions/3.10.12/envs/Artefact/lib/python3.10/site-packages (from requests->coinpaprika-sdk) (3.4.1)\n",
      "Requirement already satisfied: idna<4,>=2.5 in /home/souiki.yacine/.pyenv/versions/3.10.12/envs/Artefact/lib/python3.10/site-packages (from requests->coinpaprika-sdk) (3.10)\n",
      "Requirement already satisfied: urllib3<3,>=1.21.1 in /home/souiki.yacine/.pyenv/versions/3.10.12/envs/Artefact/lib/python3.10/site-packages (from requests->coinpaprika-sdk) (2.3.0)\n",
      "Requirement already satisfied: certifi>=2017.4.17 in /home/souiki.yacine/.pyenv/versions/3.10.12/envs/Artefact/lib/python3.10/site-packages (from requests->coinpaprika-sdk) (2025.1.31)\n",
      "Downloading coinpaprika_sdk-1.0.0-py3-none-any.whl (8.1 kB)\n",
      "Installing collected packages: coinpaprika-sdk\n",
      "Successfully installed coinpaprika-sdk-1.0.0\n",
      "\n",
      "\u001b[1m[\u001b[0m\u001b[34;49mnotice\u001b[0m\u001b[1;39;49m]\u001b[0m\u001b[39;49m A new release of pip is available: \u001b[0m\u001b[31;49m25.0\u001b[0m\u001b[39;49m -> \u001b[0m\u001b[32;49m25.0.1\u001b[0m\n",
      "\u001b[1m[\u001b[0m\u001b[34;49mnotice\u001b[0m\u001b[1;39;49m]\u001b[0m\u001b[39;49m To update, run: \u001b[0m\u001b[32;49mpip install --upgrade pip\u001b[0m\n"
     ]
    }
   ],
   "source": [
    "!pip install coinpaprika-sdk"
   ]
  },
  {
   "cell_type": "code",
   "execution_count": 7,
   "metadata": {},
   "outputs": [],
   "source": [
    "from coinpaprika import client as Coinpaprika\n",
    "\n",
    "client = Coinpaprika.Client()"
   ]
  }
 ],
 "metadata": {
  "kernelspec": {
   "display_name": "Artefact",
   "language": "python",
   "name": "python3"
  },
  "language_info": {
   "codemirror_mode": {
    "name": "ipython",
    "version": 3
   },
   "file_extension": ".py",
   "mimetype": "text/x-python",
   "name": "python",
   "nbconvert_exporter": "python",
   "pygments_lexer": "ipython3",
   "version": "3.10.12"
  }
 },
 "nbformat": 4,
 "nbformat_minor": 2
}
